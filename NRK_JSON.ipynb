{
  "nbformat": 4,
  "nbformat_minor": 0,
  "metadata": {
    "colab": {
      "name": "NRK JSON.ipynb",
      "provenance": [],
      "collapsed_sections": [],
      "include_colab_link": true
    },
    "kernelspec": {
      "name": "python3",
      "display_name": "Python 3"
    },
    "language_info": {
      "name": "python"
    }
  },
  "cells": [
    {
      "cell_type": "markdown",
      "metadata": {
        "id": "view-in-github",
        "colab_type": "text"
      },
      "source": [
        "<a href=\"https://colab.research.google.com/github/cbjoerke/hello-world/blob/main/NRK_JSON.ipynb\" target=\"_parent\"><img src=\"https://colab.research.google.com/assets/colab-badge.svg\" alt=\"Open In Colab\"/></a>"
      ]
    },
    {
      "cell_type": "code",
      "source": [
        "from google.colab import files\n",
        "import os\n",
        "\n",
        "# this is just for interacting with Google Colab\n",
        "# files.download()  - download a file from Google Colab\n",
        "# files.upload()    - upload a file to Google Colab"
      ],
      "metadata": {
        "id": "vHzMmADyfJQh"
      },
      "execution_count": null,
      "outputs": []
    },
    {
      "cell_type": "code",
      "source": [
        "#################################################################################\n",
        "# KORT DEMO AF, HVORDAN MAN FINDER SKJULT API FOR SITE, DER BRUGER KOMMUNE KARI #\n",
        "#################################################################################\n",
        "\n",
        "# importer relevante bibliotekter\n",
        "import requests\n",
        "from pprint import pprint\n",
        "\n",
        "# definer URL (fundet ved at kigge på netværkstrafik i developer tools på url https://kongsberg.kommune.no/liste/nyheter)\n",
        "url = \"https://prokom-aimcms.azurewebsites.net/api/PublicContentApi/getcontentlistdescending/80f5c7f1-6df7-4d18-b3f2-e8b2f6c83e00/mal_nyhet/10/0/Modified\"\n",
        "\n",
        "# besøg URL med requests og gemmer data i et objekt, vi kalder r\n",
        "r = requests.get(url)\n",
        "\n",
        "# URL'en leverer JSON-data, derfor kan vi bruge .json()-metoden på r\n",
        "data = r.json()\n",
        "\n",
        "# data er et dict - det har en key, \"listOfContent\", der indeholder en liste med 10 elementer\n",
        "# hver af disse elementer indeholder en masse data for én nyhed (et dict)\n",
        "# de 10 nyheder udtrækkes til, til \"artikel\", så vi kan arbejde videre med dem\n",
        "artikler = data[\"listOfContent\"]\n",
        "\n",
        "# vi tæller, hvor mange der ser \n",
        "len(artikler)"
      ],
      "metadata": {
        "id": "Oj2-7Ko7fNzg",
        "colab": {
          "base_uri": "https://localhost:8080/"
        },
        "outputId": "2f8b4838-3170-4794-f1b4-bce3c348bd8b"
      },
      "execution_count": null,
      "outputs": [
        {
          "output_type": "execute_result",
          "data": {
            "text/plain": [
              "10"
            ]
          },
          "metadata": {},
          "execution_count": 5
        }
      ]
    },
    {
      "cell_type": "code",
      "source": [
        "# udtræk og undersøg den første artikel - hvordan ser den ud?\n",
        "artikel = artikler[0]\n",
        "pprint(artikel)"
      ],
      "metadata": {
        "colab": {
          "base_uri": "https://localhost:8080/"
        },
        "id": "7ZZfP13-14sT",
        "outputId": "70c489c0-1c94-4d6b-b86e-f53b02b6e0fd"
      },
      "execution_count": null,
      "outputs": [
        {
          "output_type": "stream",
          "name": "stdout",
          "text": [
            "{'availableLanguages': 'nb',\n",
            " 'base64ImageCropped': None,\n",
            " 'categories': [{'categoryId': '7d0469bb-baec-42cf-b598-6e2150593bf2',\n",
            "                 'childrenCount': 0,\n",
            "                 'id': 98225,\n",
            "                 'subscriptionId': '80f5c7f1-6df7-4d18-b3f2-e8b2f6c83e00',\n",
            "                 'title': 'Korona'}],\n",
            " 'contentId': 'c6bd64bb-3d13-4532-8fbd-613e0e0f766a',\n",
            " 'contentObject': '%3Cp%3EPersoner%20som%20p&aring;%20grunn%20av%20sykdom%20eller%20bruk%20av%20immundempende%20behandling%20har%20alvorlig%20svekket%20immunforsvar%20har%20d&aring;rligere%20respons%20p&aring;%20vaksiner%20sammenliknet%20med%20friske%20personer.%20Dette%20gjelder%20ogs&aring;%20for%20koronavaksinasjon.%20I%20tillegg%20har%20de%20ogs&aring;%20en%20h&oslash;yere%20risiko%20for%20&aring;%20bli%20alvorlig%20syke%20dersom%20de%20smittes%20med%20koronaviruset.&nbsp;%3C/p%3E%0A%0A%3Ch3%3E%3Cbr%20/%3E%0ADette%20gjelder%20blant%20andre:%20&nbsp;%3C/h3%3E%0A%0A%3Cul%3E%0A%09%3Cli%3EPersoner%20som%20g&aring;r%20p&aring;%20immundempende%20medikamenter%3C/li%3E%0A%09%3Cli%3EKreftpasienter%20med%20aktiv%20eller%20nylig%20gjennomg&aring;tt%20immundempende%20behandling%3C/li%3E%0A%09%3Cli%3EOrgantransplanterte%3C/li%3E%0A%09%3Cli%3EBenmargstranplanterte%20(siste%202%20&aring;r)%3C/li%3E%0A%09%3Cli%3EPersoner%20med%20alvorlig%20nyresvikt,%20eller%20i%20aktiv%20dialyse%3C/li%3E%0A%09%3Cli%3EPersoner%20med%20avansert%20eller%20ubehandlet%20HIV-infeksjon%3C/li%3E%0A%3C/ul%3E%0A%0A%3Cp%3E%3Cbr%20/%3E%0AEn%20del%20av%20disse%20pasientene%20er%20anbefalt%20en%20ekstra%20dose%20koronavaksine%20som%20del%20av%20grunnvaksinasjonen,%20dvs.%20tre%20doser%20istedenfor%20to.%20For%20denne%20gruppen%20blir%20oppfriskningsdosen%20dose%20nummer%204.%3C/p%3E%0A%0A%3Cp%3E&nbsp;%3C/p%3E%0A%0A%3Cp%3E&nbsp;%3C/p%3E%0A%0A%3Cp%3ELes%20mer%20p&aring;%20nettsiden%20til%20FHI:%20%3Ca%20href=%22https://www.fhi.no/nyheter/2022/personer-med-alvorlig-svekket-immunforsvar-bor-ta-oppfriskningsdose-4.-dose/%22%20target=%22_blank%22%3Ehttps://www.fhi.no/nyheter/2022/personer-med-alvorlig-svekket-immunforsvar-bor-ta-oppfriskningsdose-4.-dose/%3C/a%3E&nbsp;%3C/p%3E%0A%0A%3Cp%3E&nbsp;%3C/p%3E%0A%0A%3Cp%3E&nbsp;%3C/p%3E%0A%0A%3Cp%3E%3Cbr%20/%3E%0A%3Cbr%20/%3E%0A%3Cspan%20class=%22h-card%22%3E%3Cspan%20id=%22editorBlokk%22%3E%3Cspan%20id=%222f0d74d3-07c9-4eb7-9ab3-e7e546f8280e%22%3E%3Cspan%20style=%22margin-right:%205px;%20font-weight:%20500;%22%3EKontaktkort:%3C/span%3E%3Cspan%20style=%22font-style:%20italic;margin-right:%205px;%22%3E%5BVaksinesenteret%5D%3C/span%3E%3C/span%3E%3C/span%3E%3C/span%3E%3C/p%3E%0A',\n",
            " 'contentProviderId': None,\n",
            " 'contentSubscribers': None,\n",
            " 'contentTypeGuid': None,\n",
            " 'contentTypeId': 0,\n",
            " 'created': '2022-02-09T09:12:18.409699',\n",
            " 'creator': 'Margrethe Taxt-Lamolle',\n",
            " 'extension': None,\n",
            " 'filename': None,\n",
            " 'firstCreated': '2022-02-09T09:04:49.41018',\n",
            " 'id': 78782,\n",
            " 'intro': 'Denne gruppen har dårligere respons på vaksiner sammenliknet med '\n",
            "          'friske personer, og er derfor anbefalt en fjerde vaksinedose.  '\n",
            "          'Dersom dette gjelder deg, så ta kontakt med Vaksinesenteret\\xa0. ',\n",
            " 'isMedia': False,\n",
            " 'isSearchable': True,\n",
            " 'isSubscriberOfThisNode': False,\n",
            " 'isVisibleInNavigation': True,\n",
            " 'language': 'nb_no',\n",
            " 'mediaCopyright': None,\n",
            " 'metaObject': '%7B%22imageContentId%22:%226f1a8abb-537b-4783-a6c7-9cc032057e53%22,%22imageDescription%22:%22Illustrasjonsbilde%20%C2%A9%20Freepik%22%7D',\n",
            " 'metaRelatedContentObjects': None,\n",
            " 'modified': '2022-02-09T09:12:18.5514699',\n",
            " 'modifiedBy': 'Margrethe Taxt-Lamolle',\n",
            " 'nameInUrl': '',\n",
            " 'organizationId': '47447dad-83e6-46b6-9501-279da9f4e8bf',\n",
            " 'pageTypeId': 'mal_nyhet',\n",
            " 'parameterObject': None,\n",
            " 'parentContent': '00000000-0000-0000-0000-000000000000',\n",
            " 'path': None,\n",
            " 'publishEnd': None,\n",
            " 'publishStart': None,\n",
            " 'published': None,\n",
            " 'references': None,\n",
            " 'relatedContentObjects': None,\n",
            " 'relatedContents': ['2f0d74d3-07c9-4eb7-9ab3-e7e546f8280e',\n",
            "                     '6f1a8abb-537b-4783-a6c7-9cc032057e53'],\n",
            " 'relatedSubscriberContents': None,\n",
            " 'scheduledEndJobId': None,\n",
            " 'scheduledStartJobId': None,\n",
            " 'shortNameInUrl': None,\n",
            " 'sortIndex': 0,\n",
            " 'state': 2,\n",
            " 'subscriptionId': '80f5c7f1-6df7-4d18-b3f2-e8b2f6c83e00',\n",
            " 'tags': [{'id': 40519,\n",
            "           'tagId': '00000000-0000-0000-0000-000000000000',\n",
            "           'title': 'koronavaksine'},\n",
            "          {'id': 40520,\n",
            "           'tagId': '00000000-0000-0000-0000-000000000000',\n",
            "           'title': 'fjerde dose'},\n",
            "          {'id': 40521,\n",
            "           'tagId': '00000000-0000-0000-0000-000000000000',\n",
            "           'title': 'immunsupprimerte'},\n",
            "          {'id': 40522,\n",
            "           'tagId': '00000000-0000-0000-0000-000000000000',\n",
            "           'title': 'svekket immunforsvar'}],\n",
            " 'title': 'Dose 4 til personer med alvorlig svekket immunforsvar.',\n",
            " 'userId': 'margrethe.taxt.lamolle@kongsberg.kommune.no',\n",
            " 'version': 24,\n",
            " 'visibleFor': '3b2dc46c-a157-45fb-aa93-e4688afab585'}\n"
          ]
        }
      ]
    },
    {
      "cell_type": "code",
      "source": [
        "# udtræk en række felter fra dette dictionary\n",
        "# og saml det i et dict, nyhed_dict\n",
        "\n",
        "title = artikel[\"title\"]\n",
        "creator = artikel[\"creator\"]\n",
        "created = artikel[\"created\"]\n",
        "user_id = artikel[\"userId\"]\n",
        "content_id = artikel[\"contentId\"]\n",
        "intro = artikel[\"intro\"]\n",
        "content_object = artikel[\"contentObject\"]\n",
        "\n",
        "# saml data i et dict\n",
        "nyhed_dict = {\n",
        "    \"title\": title,\n",
        "    \"created\": created,\n",
        "    \"creator\": creator,\n",
        "    \"user_id\": user_id,\n",
        "    \"intro\": intro,\n",
        "    \"content_object\": content_object,\n",
        "    \"content_id\": content_id,\n",
        "\n",
        "}\n",
        "# pprinter nyhed_dict\n",
        "pprint(nyhed_dict)"
      ],
      "metadata": {
        "colab": {
          "base_uri": "https://localhost:8080/"
        },
        "id": "_Tn18lE21VhB",
        "outputId": "43f38fc7-19ac-4533-fe3f-8ff017df2185"
      },
      "execution_count": null,
      "outputs": [
        {
          "output_type": "stream",
          "name": "stdout",
          "text": [
            "{'content_id': 'c6bd64bb-3d13-4532-8fbd-613e0e0f766a',\n",
            " 'content_object': '%3Cp%3EPersoner%20som%20p&aring;%20grunn%20av%20sykdom%20eller%20bruk%20av%20immundempende%20behandling%20har%20alvorlig%20svekket%20immunforsvar%20har%20d&aring;rligere%20respons%20p&aring;%20vaksiner%20sammenliknet%20med%20friske%20personer.%20Dette%20gjelder%20ogs&aring;%20for%20koronavaksinasjon.%20I%20tillegg%20har%20de%20ogs&aring;%20en%20h&oslash;yere%20risiko%20for%20&aring;%20bli%20alvorlig%20syke%20dersom%20de%20smittes%20med%20koronaviruset.&nbsp;%3C/p%3E%0A%0A%3Ch3%3E%3Cbr%20/%3E%0ADette%20gjelder%20blant%20andre:%20&nbsp;%3C/h3%3E%0A%0A%3Cul%3E%0A%09%3Cli%3EPersoner%20som%20g&aring;r%20p&aring;%20immundempende%20medikamenter%3C/li%3E%0A%09%3Cli%3EKreftpasienter%20med%20aktiv%20eller%20nylig%20gjennomg&aring;tt%20immundempende%20behandling%3C/li%3E%0A%09%3Cli%3EOrgantransplanterte%3C/li%3E%0A%09%3Cli%3EBenmargstranplanterte%20(siste%202%20&aring;r)%3C/li%3E%0A%09%3Cli%3EPersoner%20med%20alvorlig%20nyresvikt,%20eller%20i%20aktiv%20dialyse%3C/li%3E%0A%09%3Cli%3EPersoner%20med%20avansert%20eller%20ubehandlet%20HIV-infeksjon%3C/li%3E%0A%3C/ul%3E%0A%0A%3Cp%3E%3Cbr%20/%3E%0AEn%20del%20av%20disse%20pasientene%20er%20anbefalt%20en%20ekstra%20dose%20koronavaksine%20som%20del%20av%20grunnvaksinasjonen,%20dvs.%20tre%20doser%20istedenfor%20to.%20For%20denne%20gruppen%20blir%20oppfriskningsdosen%20dose%20nummer%204.%3C/p%3E%0A%0A%3Cp%3E&nbsp;%3C/p%3E%0A%0A%3Cp%3E&nbsp;%3C/p%3E%0A%0A%3Cp%3ELes%20mer%20p&aring;%20nettsiden%20til%20FHI:%20%3Ca%20href=%22https://www.fhi.no/nyheter/2022/personer-med-alvorlig-svekket-immunforsvar-bor-ta-oppfriskningsdose-4.-dose/%22%20target=%22_blank%22%3Ehttps://www.fhi.no/nyheter/2022/personer-med-alvorlig-svekket-immunforsvar-bor-ta-oppfriskningsdose-4.-dose/%3C/a%3E&nbsp;%3C/p%3E%0A%0A%3Cp%3E&nbsp;%3C/p%3E%0A%0A%3Cp%3E&nbsp;%3C/p%3E%0A%0A%3Cp%3E%3Cbr%20/%3E%0A%3Cbr%20/%3E%0A%3Cspan%20class=%22h-card%22%3E%3Cspan%20id=%22editorBlokk%22%3E%3Cspan%20id=%222f0d74d3-07c9-4eb7-9ab3-e7e546f8280e%22%3E%3Cspan%20style=%22margin-right:%205px;%20font-weight:%20500;%22%3EKontaktkort:%3C/span%3E%3Cspan%20style=%22font-style:%20italic;margin-right:%205px;%22%3E%5BVaksinesenteret%5D%3C/span%3E%3C/span%3E%3C/span%3E%3C/span%3E%3C/p%3E%0A',\n",
            " 'created': '2022-02-09T09:12:18.409699',\n",
            " 'creator': 'Margrethe Taxt-Lamolle',\n",
            " 'intro': 'Denne gruppen har dårligere respons på vaksiner sammenliknet med '\n",
            "          'friske personer, og er derfor anbefalt en fjerde vaksinedose.  '\n",
            "          'Dersom dette gjelder deg, så ta kontakt med Vaksinesenteret\\xa0. ',\n",
            " 'title': 'Dose 4 til personer med alvorlig svekket immunforsvar.',\n",
            " 'user_id': 'margrethe.taxt.lamolle@kongsberg.kommune.no'}\n"
          ]
        }
      ]
    },
    {
      "cell_type": "markdown",
      "source": [
        "#Opgave 1\n",
        "\n",
        "Find det skjulte API for https://tinn.kommune.no/liste/nyheter, som giver JSON-data med resultater. Grav ind til den liste, der rummer dictionaries med alle nyheder, og udtræk følgende felter for hvert element i denne liste:\n",
        "\n",
        "- contentId\n",
        "- created\n",
        "- creator\n",
        "- userId\n",
        "- title\n",
        "- intro\n",
        "- contentObject\n",
        "\n",
        "Saml disse data i hver sit dict, f.eks. kaldet `nyhed_dict`.\n",
        "\n",
        "**OBS**: Start med ét element i listen. Når det virker for ét element, så lav koden om til et for-loop, der gennemgår alle nyheder. .append() hver nyhed_dict til en samlet liste.m"
      ],
      "metadata": {
        "id": "09_PgfJ22lDO"
      }
    },
    {
      "cell_type": "code",
      "source": [
        "######################\n",
        "# LØSNING - OPGAVE 1 #\n",
        "######################\n",
        "\n",
        "# requests og pprint forudsættes importeret\n",
        "\n",
        "# definer en tom liste, som alle vores nyhed_dict skal indsættes i\n",
        "output_list = []\n",
        "\n",
        "# definer den URL, som TINN KOMMUNE henter data fra\n",
        "url = \"https://prokom-aimcms.azurewebsites.net/api/PublicContentApi/getcontentlistdescending/e5151a68-1d5f-4987-b4c0-426d961a0dd9/mal_nyhet/10/0/Modified\"\n",
        "\n",
        "# besøg URL med reuqests\n",
        "r = requests.get(url)\n",
        "\n",
        "# udtræk JSON data fra vores response\n",
        "data = r.json()\n",
        "\n",
        "# data er et dict\n",
        "# under nøglen \"listOfContent\" ligger en liste med 10 artikler (dicts)\n",
        "# disse udtrækkes til en særskilt variabel, \"artikler\"\n",
        "artikler = data[\"listOfContent\"]\n",
        "\n",
        "# lav et loop, der gennemgår hver artikel, bygger et nyhed_dict og appender denne til en samlet liste\n",
        "for artikel in artikler:\n",
        "  # udtræk de relevante felter\n",
        "  title = artikel[\"title\"]\n",
        "  creator = artikel[\"creator\"]\n",
        "  created = artikel[\"created\"]\n",
        "  user_id = artikel[\"userId\"]\n",
        "  content_id = artikel[\"contentId\"]\n",
        "  intro = artikel[\"intro\"]\n",
        "  content_object = artikel[\"contentObject\"]\n",
        "\n",
        "  # saml data i et dict\n",
        "  nyhed_dict = {\n",
        "      \"title\": title,\n",
        "      \"created\": created,\n",
        "      \"creator\": creator,\n",
        "      \"user_id\": user_id,\n",
        "      \"intro\": intro,\n",
        "      \"content_object\": content_object,\n",
        "      \"content_id\": content_id,\n",
        "\n",
        "  }\n",
        "  # føj nyhed_dict til den samlede liste, output_list\n",
        "  output_list.append(nyhed_dict)\n",
        "\n",
        "# pprint resultet\n",
        "pprint(output_list)"
      ],
      "metadata": {
        "colab": {
          "base_uri": "https://localhost:8080/"
        },
        "id": "ZWwsv1T17YoD",
        "outputId": "67f61c03-3d62-48fa-a9c4-926888118b9c"
      },
      "execution_count": null,
      "outputs": [
        {
          "output_type": "stream",
          "name": "stdout",
          "text": [
            "[{'content_id': '42739e4c-b0cf-4e1b-8c34-df1c76edf2ec',\n",
            "  'content_object': '%3Cp%3EOrdningen%20er%20ment%20som%20en%20generell%20kompensasjon%20for%20h&oslash;ye%20str&oslash;mutgifter%20i%20november,%20hvor%20den%20statlige%20kompensasjonsordningen%20enn&aring;%20ikke%20var%20p&aring;%20plass.%3C/p%3E%0A%0A%3Cp%3E%3Cbr%20/%3E%0ABerettiget%20til%20kommunal%20st&oslash;tte%20er%20alle%20ordin&aelig;re%20husstander%20(prim&aelig;rboliger)%20med%20adresse%20i%20Tinn%20kommune.%3C/p%3E%0A%0A%3Cp%3EDet%20ytes%20ikke%20st&oslash;tte%20til%20fritidsboliger%20/sekund&aelig;rboliger.%3C/p%3E%0A%0A%3Cp%3EEngangsbel&oslash;pet%20p&aring;%20kr.%201%20500,-%20vil%20bli%20fratrukket%20p&aring;%20str&oslash;mfaktura%20for%20januar%20fra%20Tinn%20Energi%20og%20Fiber,%20som%20sendes%20ut%20i%20disse%20dager.%3C/p%3E%0A%0A%3Cp%3EFor%20abonnenter%20med%20annen%20str&oslash;mleverand&oslash;r%20enn%20Tinn%20Energi%20og%20Fiber,%20vil%20st&oslash;tten%20bli%20trukket%20fra%20p&aring;%20nettleiefaktura%20fra%20Stannum.%3C/p%3E%0A%0A%3Cp%3EKommunen%20h&aring;per%20med%20denne%20ordningen%20&aring;%20n&aring;%20frem%20til%20alle%20kommunens%20innbyggere.%3C/p%3E%0A%0A%3Cp%3EDersom%20noen%20som%20i%20henhold%20til%20kriteriene%20oppfatter%20&aring;%20v&aelig;re%20omfattet%20av%20ordningen,%20likevel%20skulle%20oppleve%20&aring;%20ikke%20bli%20godskrevet%20st&oslash;tte,%20ber%20vi%20om%20at%20det%20tas%20kontakt%20med%20Servicetorget.%3C/p%3E%0A',\n",
            "  'created': '2022-02-09T11:24:21.2537926',\n",
            "  'creator': 'Aina Risnes Haugen',\n",
            "  'intro': 'Et samlet formannskap og kommunestyre har vedtatt å utbetale et '\n",
            "           'engangsbeløp på kr. 1500,- til husstander i Tinn som kompensasjon '\n",
            "           'for høye strømutgifter. ',\n",
            "  'title': 'Kommunal strømstøtte til kommunens innbyggere',\n",
            "  'user_id': 'aina.risnes.haugen@tinn.kommune.no'},\n",
            " {'content_id': '689ed945-298c-4dd2-8fab-2f6fc9964173',\n",
            "  'content_object': '%3Cp%3EStillingen%20er%20100%20%25%20fast%20turnus%20stilling%20med%20arbeid%20hver%20fjerde%20helg.%20Vikariat%20n&aring;%20som%20blir%20fast%20stilling%20i%20juni.%20&nbsp;Avlastningsboligen%20er%20i%20bygget%20Mandheimen%20hvor%20det%20er%20tilbud%20om%20omsorgsboliger%20og%20avlastning%20for%20barn%20og%20unge.&nbsp;%3C/p%3E%0A%0A%3Cp%3E%3Ca%20href=%22https://tinn.easycruit.com/vacancy/2878559/176111?iso=no%22%3ELes%20fullstendig%20utlysningstekst%3C/a%3E%3C/p%3E%0A',\n",
            "  'created': '2022-02-09T07:57:56.2104723',\n",
            "  'creator': 'Aina Risnes Haugen',\n",
            "  'intro': 'Søknadsfrist: 27.02.2022',\n",
            "  'title': 'Ledig stilling - Sykepleier/Vernepleier 100 %',\n",
            "  'user_id': 'aina.risnes.haugen@tinn.kommune.no'},\n",
            " {'content_id': 'f573bc7c-4c60-4c29-854d-c530ad8d4f27',\n",
            "  'content_object': '%3Cp%3E%3Ca%20href=%22fe680ec8-161f-4bc2-b27c-64ecfee375b1%22%3EH&oslash;ringssvarene%20finner%20du%20samlet%20p&aring;%20denne%20siden%3C/a%3E.&nbsp;%3C/p%3E%0A',\n",
            "  'created': '2022-02-07T14:49:42.008814',\n",
            "  'creator': 'Malene Midthjell Eggerud',\n",
            "  'intro': '',\n",
            "  'title': 'Publisering av høringssvar til sak vedrørende fremtidig '\n",
            "           'organisering av helse-, pleie- og omsorgssektoren i Tinn kommune.',\n",
            "  'user_id': 'malene.eggerud@tinn.kommune.no'},\n",
            " {'content_id': 'b836ed3d-1f45-4c34-8684-b5c5c1819004',\n",
            "  'content_object': '%3Cp%3E&nbsp;%3Ca%20href=%22https://www.sikkerhverdag.no/egenberedskap%22%3Ehttps://www.sikkerhverdag.no/egenberedskap%3C/a%3E%3C/p%3E%0A%0A%3Cp%3E&nbsp;%3C/p%3E%0A%0A%3Cdiv%20data-oembed-url=%22https://www.dsb.no/globalassets/dokumenter/egenberedskap/roll-up/dsb_rollup_2021_nynorsk.pdf%22%3E%0A%3Cdiv%20style=%22left:%200;%20width:%20100%25;%20height:%200;%20position:%20relative;%20padding-bottom:%20129.4118%25;%22%3E%3Ciframe%20allowfullscreen=%22%22%20src=%22https://docs.google.com/viewer?embedded=true&amp;url=https%253A%252F%252Fwww.dsb.no%252Fglobalassets%252Fdokumenter%252Fegenberedskap%252Froll-up%252Fdsb_rollup_2021_nynorsk.pdf%22%20style=%22top:%200;%20left:%200;%20width:%20100%25;%20height:%20100%25;%20position:%20absolute;%20border:%200;%22%20tabindex=%22-1%22%3E%3C/iframe%3E%3C/div%3E%0A%3C/div%3E%0A%0A%3Cp%3E&nbsp;%3C/p%3E%0A',\n",
            "  'created': '2022-02-07T09:55:07.9332495',\n",
            "  'creator': 'Anne Berit Næss',\n",
            "  'intro': 'Her finner du tips og råd om egen beredskap:',\n",
            "  'title': 'Din beredskap - sikker hverdag',\n",
            "  'user_id': 'anne.berit.naess@tinn.kommune.no'},\n",
            " {'content_id': '00428682-2498-4c80-90ba-6564cc0511ce',\n",
            "  'content_object': '%3Cdiv%20data-oembed-url=%22https://youtu.be/9of2U55Gf1U%22%3E%0A%3Cdiv%20style=%22left:%200;%20width:%20100%25;%20height:%200;%20position:%20relative;%20padding-bottom:%2056.25%25;%22%3E%3Ciframe%20allow=%22accelerometer;%20clipboard-write;%20encrypted-media;%20gyroscope;%20picture-in-picture;%22%20allowfullscreen=%22%22%20scrolling=%22no%22%20src=%22https://www.youtube.com/embed/9of2U55Gf1U?rel=0%22%20style=%22top:%200;%20left:%200;%20width:%20100%25;%20height:%20100%25;%20position:%20absolute;%20border:%200;%22%20tabindex=%22-1%22%3E%3C/iframe%3E%3C/div%3E%0A%3C/div%3E%0A%0A%3Cp%3E&nbsp;%3C/p%3E%0A%0A%3Cp%3E&nbsp;%3C/p%3E%0A%0A%3Cp%3E&nbsp;%3C/p%3E%0A%0A%3Cp%3E&nbsp;%3C/p%3E%0A%0A%3Cp%3EFor%20mer%20informasjon%20se%20her:%3C/p%3E%0A%0A%3Cp%3E%3Ca%20href=%22https://tinn.aim.prokom.no/artikkel/flytte-til-tinn-1605171263337%22%3Ehttps://tinn.aim.prokom.no/artikkel/flytte-til-tinn-1605171263337%3C/a%3E%3C/p%3E%0A%0A%3Cp%3E&nbsp;%3C/p%3E%0A',\n",
            "  'created': '2022-02-07T08:55:41.3838825',\n",
            "  'creator': 'Anne Berit Næss',\n",
            "  'intro': 'Vi har flere ledige stillinger i kommunen',\n",
            "  'title': 'Kanskje du vil flytte til Tinn?  ',\n",
            "  'user_id': 'anne.berit.naess@tinn.kommune.no'},\n",
            " {'content_id': '16bcb983-92ae-4d60-840e-686552674afc',\n",
            "  'content_object': '%3Cp%3EElements%20publikum%20som%20er%20innsynsl&oslash;sningen%20til%20kommunen,%20er%20utilgjengelig%20pga.%20en%20oppdatering%20av%20kommunens%20sak%20og%20arkivsystem.&nbsp;%3C/p%3E%0A',\n",
            "  'created': '2022-02-04T12:28:43.5268992',\n",
            "  'creator': 'Malene Midthjell Eggerud',\n",
            "  'intro': 'Fra fredag 04.02.22 kl. 12.00 til mandag 07.02.22 kl. 09.00',\n",
            "  'title': 'Nedetid på innsynsløsning til Tinn kommune',\n",
            "  'user_id': 'malene.eggerud@tinn.kommune.no'},\n",
            " {'content_id': '036c69d4-779e-4d5e-a2c8-c7909b56b035',\n",
            "  'content_object': '%3Cp%3Ehvor%20det%20serveres%20alkohol.%3C/p%3E%0A%0A%3Cp%3ES&oslash;knaden%20m&aring;%20sendes%20inn%20minimum%204%20uker%20f&oslash;r%20arrangementet.%3C/p%3E%0A%0A%3Cp%3EKommunens%20alkoholpolitiske%20retningslinjer%20finner%20du%20her:&nbsp;%3Ca%20href=%22https://www.tinn.kommune.no/artikkel/nye-alkoholpolitiske-retningslinjer%22%3Ehttps://www.tinn.kommune.no/artikkel/nye-alkoholpolitiske-retningslinjer%3C/a%3E%3C/p%3E%0A%0A%3Cp%3EHar%20du%20sp&oslash;rsm&aring;l%20om%20salgs-%20eller%20skjenkebevilling%20kan%20du%20ta%20kontakt%20med%20kommunens%20servicetorg%20p&aring;%20tlf.%2035082600.%3C/p%3E%0A%0A%3Cp%3E&nbsp;%3C/p%3E%0A',\n",
            "  'created': '2022-02-04T09:13:51.8733129',\n",
            "  'creator': 'Anne Berit Næss',\n",
            "  'intro': 'dersom du skal arrangere festival, konsert eller annet klart '\n",
            "           'avgrenset arrangement som er åpent for publikum',\n",
            "  'title': 'Husk at du må ha skjenkebevilling',\n",
            "  'user_id': 'anne.berit.naess@tinn.kommune.no'},\n",
            " {'content_id': '0218806c-1119-4612-9f81-a78fa932e5e2',\n",
            "  'content_object': '%3Cp%3EHjemmetjenesten%20s&oslash;ker%20n&aring;%20ferievikarer%20for%20perioden%20juni,%20juli%20og%20august%202022.%20Du%20m&aring;%20p&aring;beregne%20oppl&aelig;ring%20i%20juni,%20og%20kanskje%20allerede%20i%20mai,%20dersom%20det%20skulle%20passe.%3C/p%3E%0A%0A%3Cp%3E%3Ca%20href=%22https://tinn.easycruit.com/vacancy/2873917/176109?iso=no%22%3ELes%20fullstendig%20utlysningstekst.%3C/a%3E%3C/p%3E%0A',\n",
            "  'created': '2022-02-02T12:44:23.8000441',\n",
            "  'creator': 'Aina Risnes Haugen',\n",
            "  'intro': 'Søknadsfrist: 01.05.2022',\n",
            "  'title': 'Ledig stilling: Pleie og omsorg - Hjemmetjenesten',\n",
            "  'user_id': 'aina.risnes.haugen@tinn.kommune.no'},\n",
            " {'content_id': 'dbce1118-08e5-4dff-bc56-2e532be0a9f5',\n",
            "  'content_object': '%3Cp%3EDu%20finn%20detaljert%20informasjon%20om%20endringane%20p&aring;%20%3Ca%20href=%22https://www.regjeringen.no/no/tema/Koronasituasjonen/id2692388/%22%3Eregjeringa.no%3C/a%3E&nbsp;%3C/p%3E%0A%0A%3Cp%3EHer%20er%20ei%20oversikt%20over%20endringane%3C/p%3E%0A%0A%3Cp%3E%3Cstrong%3EBarnehagar,%20skular%20og%20skulefritidsordningar%3C/strong%3E&nbsp;%3C/p%3E%0A%0A%3Cul%3E%0A%09%3Cli%3EDet%20er%20framleis%20krav%20om%20smittevernfaglig%20forsvarleg%20drift.%3C/li%3E%0A%09%3Cli%3EDet%20betyr%20i%20praksis%20at%20skular%20og%20barnehagar%20g&aring;r%20til%20gr&oslash;nt%20niv&aring;.%3C/li%3E%0A%3C/ul%3E%0A%0A%3Cp%3E%3Cstrong%3EH&oslash;gare%20utdanningsinstitusjonar%3C/strong%3E%3C/p%3E%0A%0A%3Cul%3E%0A%09%3Cli%3EDet%20er%20framleis%20krav%20om%20smittevernfagleg%20forsvarleg%20drift.%3C/li%3E%0A%09%3Cli%3ERegjeringa%20anbefaler%20at%20h&oslash;gskular,%20universitet%20og%20fagskular%20legg%20opp%20til%20at%20studentar%20kan%20vere%20fysisk%20til%20stades%20ved%20undervisning.%3C/li%3E%0A%09%3Cli%3EH&oslash;gare%20utdanningsinstitusjonar%20treng%20ikkje%20f&oslash;lgje%20tilr&aring;dinga%20om%201%20meters%20avstand%20ved%20undervisning.%3C/li%3E%0A%3C/ul%3E%0A%0A%3Cp%3E%3Cstrong%3EOrganisert%20idrett%20og%20fritidsaktivitetar%3C/strong%3E%3C/p%3E%0A%0A%3Cul%3E%0A%09%3Cli%3EAll%20organisert%20idrett%20og%20fritidsaktivitetar%20kan%20gjennomf&oslash;rast%20som%20normalt.&nbsp;%3C/li%3E%0A%3C/ul%3E%0A%0A%3Cp%3E%3Cstrong%3EArbeidsliv%3C/strong%3E%3C/p%3E%0A%0A%3Cul%3E%0A%09%3Cli%3ERegjeringa%20anbefaler%20at%20folk%20held%201%20meter%20avstand%20til%20kvarandre%3C/li%3E%0A%09%3Cli%3ERegjeringa%20anbefaler%20at%20arbeidsgjevar%20sj&oslash;lv%20vurderer%20kor%20mykje%20bruk%20av%20heimekontor%20som%20er%20riktig%20for%20den%20enkelte%20arbeidsplassen.&nbsp;Ved%20ei%20slik%20vurdering%20b&oslash;r%20arbeidsgjevar%20legge%20vekt%20p&aring;%20risiko%20for%20smitte%20p&aring;%20arbeidsplassen%20og%20kor%20s&aring;rbar%20verksemda%20er%20for%20eit%20h&oslash;gt,&nbsp;samtidig%20sjukefr&aring;v&aelig;r.%3C/li%3E%0A%09%3Cli%3EArbeidsgjevar%20b&oslash;r%20ta%20omsyn%20til%20at%20det%20er%20mogleg%20&aring;%20halde%20avstand%20p&aring;%20arbeidsplassen.%3C/li%3E%0A%3C/ul%3E%0A%0A%3Cp%3E%3Cstrong%3EServeringsstader%3C/strong%3E%3C/p%3E%0A%0A%3Cul%3E%0A%09%3Cli%3EDet%20er%20ikkje%20lenger%20skjenkestopp%20for%20serveringsstader%3C/li%3E%0A%09%3Cli%3EDet%20er%20heller%20ikkje%20krav%20om%20bordservering%3C/li%3E%0A%09%3Cli%3EServeringsstader%20skal%20legge%20til%20rette%20for%20at%20alle%20kan%20halde%201%20meter%20avstand%20til%20andre%20enn%20husstandsmedlemmar%20og%20tilsvarande%20n&aelig;re.%3C/li%3E%0A%09%3Cli%3EServeringsstader%20skal%20ikkje%20gjennomf&oslash;re%20aktivitetar%20som%20naturleg%20inneber%20mindre%20avstand%20mellom%20gjestane%20enn%201%20meter,%20til&nbsp;d&oslash;mes&nbsp;dansing.%3C/li%3E%0A%3C/ul%3E%0A%0A%3Cp%3E%3Cstrong%3EArrangement%20og%20samankomstar%3C/strong%3E%3C/p%3E%0A%0A%3Cul%3E%0A%09%3Cli%3EDet%20er%20ingen%20avgrensingar%20p&aring;%20kor%20mange%20gjestar%20du%20kan%20ha%20heime,%20eller%20tal%20p&aring;%20deltakarar%20p&aring;%20private%20eller%20offentlege&nbsp;%20samankomstar.&nbsp;%3C/li%3E%0A%09%3Cli%3EDet%20er%20framleis%20krav%20om%20smittvernfagleg%20forsvarleg%20drift%20(sj&aring;%20under)%3C/li%3E%0A%09%3Cli%3E1-meterkravet%20gjeld%20ikkje%20for%20personar%20som%20sit%20p&aring;%20faste%20tilviste%20plassar.&nbsp;%3C/li%3E%0A%09%3Cli%3EDet%20betyr%20at%20det%20er%20mogleg%20&aring;%20fylle%20alle%20plassane%20i%20ein%20sal%20n&aring;r%20alle%20i%20publikum%20sit%20p&aring;%20ein%20tilvist%20plass.%3C/li%3E%0A%3C/ul%3E%0A%0A%3Cp%3E%3Cstrong%3ETesting,%20smitte%20og%20isolasjon%3C/strong%3E%3C/p%3E%0A%0A%3Cul%3E%0A%09%3Cli%3EIsoleringstida%20for%20deg%20som%20er%20smitta%20er%20no%20fire%20d&oslash;gn.%3C/li%3E%0A%09%3Cli%3EDu%20som%20er%20smitta,%20kan%20avslutte%20isoleringa%20etter%20fire%20d&oslash;gn,%20dersom%20du%20har%20vore%20feberfri%20i%20minst%2024%20timar.%3C/li%3E%0A%09%3Cli%3EHusstandsmedlemmar%20og%20tilsvarande%20n&aelig;re%20ein%20som%20er%20smitta%20har%20ikkje%20lengre%20plikt%20til%20&aring;%20vere%20i%20smittekarantene%20&nbsp;%3C/li%3E%0A%09%3Cli%3ERegjeringa%20anbefaler%20at%20du%20som%20bur%20saman%20med%20eller%20er%20tilsvarande%20n&aelig;r%20ein%20som%20er%20smitta,%20tar%20ein%20sj&oslash;lvtest%20kvar%20dag%20i%20fem%20dagar%20etter%20siste%20n&aelig;rkontakt%20med%20den%20som%20er%20smitta.&nbsp;%3C/li%3E%0A%09%3Cli%3EViss%20du%20ikkje%20kan%20halde%20avstand%20til%20den%20som%20er%20smitta,%20anbefaler%20regjeringa%20at%20du%20testar%20deg%20kvar%20dag%20i%20isoleringsperioden%20og%20i&nbsp;%20&nbsp;%20tillegg%20fem%20dagar%20etter%20dette%20-%20til%20saman%20i%20ni%20dagar.%3C/li%3E%0A%09%3Cli%3EUtover%20dette%20er%20det%20berre%20dei%20som%20har%20symptom%20som%20b&oslash;r%20teste%20seg.%3C/li%3E%0A%09%3Cli%3ERegjeringa%20anbefaler%20at%20husstandsmedlemmar%20og%20tilsvarande%20n&aelig;re%20til%20ein%20som%20er%20smitta%20brukar%20munnbind%20innand&oslash;rs%20p&aring;&nbsp;offentlege%20stader.%20Du%20b&oslash;r%20&nbsp;unng&aring;%20store%20samankomster%20og%20arrangement%20i%2010%20d&oslash;gn%20etter%20siste%20n&aelig;rkontakt.%3C/li%3E%0A%09%3Cli%3EI%20tillegg%20b&oslash;r%20du%20f&oslash;lgje%20med%20p&aring;%20symptom%20under%20heile%20testperioden.%20Dersom%20du%20f&aring;r%20symptom,%20b&oslash;r%20du%20halde%20deg%20heime%20og%20ta%20ein%20sj&oslash;lvtest.%3C/li%3E%0A%09%3Cli%3EBarn%20i%20grunnskulealder%20eller%20yngre%20treng%20berre%20test%20ved%20symptom.%20Det%20gjeld%20&ograve;g%20n&aring;r%20det%20er%20smitte%20i%20husstanden.%3C/li%3E%0A%3C/ul%3E%0A%0A%3Cp%3E%3Cstrong%3ESmittesporing%3C/strong%3E%3C/p%3E%0A%0A%3Cul%3E%0A%09%3Cli%3EDersom%20du%20er%20smitta,%20b&oslash;r%20du%20sj&oslash;lv%20informere%20n&aelig;rkontaktane%20dine.%20Kommunen%20kan%20hjelpe%20deg%20ved%20behov.%3C/li%3E%0A%09%3Cli%3EDu%20b&oslash;r%20registrere%20positiv%20sj&oslash;lvtest%20hos%20kommunen.%3C/li%3E%0A%09%3Cli%3ERegjeringa%20anbefaler%20at%20du%20&ograve;g%20registrerer%20positiv%20test%20i%20appen%20Smittestopp.%3C/li%3E%0A%3C/ul%3E%0A%0A%3Cp%3E%3Cstrong%3EAvstand%20og%20sosial%20kontakt%3C/strong%3E%3C/p%3E%0A%0A%3Cul%3E%0A%09%3Cli%3EAnbefalinga%20om%201%20meter%20avstand%20til%20andre%20enn%20hustandsmedlemmar%20gjeld%20framleis.%3C/li%3E%0A%09%3Cli%3EAnbefalinga%20om%201%20meter%20avstand%20gjeld%20ikkje%20for%20barn%20i%20barnehage%20og%20p&aring;%20barneskule%3C/li%3E%0A%09%3Cli%3EAnbefalinga%20om%20avstand%20gjeld%20ikkje%20for%20vaksne%20som%20arbeider%20med%20barn,%20unge%20og%20s&aring;rbare%20grupper.%3C/li%3E%0A%09%3Cli%3ERegjeringa%20anbefaler%20framleis%20&aring;%20bruke%20munnbind%20der%20det%20ikkje%20er%20mogleg%20&aring;%20halde%20avstand%20til%20andre.&nbsp;%3C/li%3E%0A%3C/ul%3E%0A%0A%3Cp%3E%3Cstrong%3EMunnbind%3C/strong%3E%3C/p%3E%0A%0A%3Cul%3E%0A%09%3Cli%3EDet%20er%20p&aring;bode%20&aring;%20bruke%20munnbind%20n&aring;r%20det%20ikkje%20er%20mogleg%20&aring;%20halde%20minst%201%20meter%20avstand%20til%20andre%20i%20butikkar,%20p&aring;%20kj&oslash;pesenter,%20p&aring;%20serveringsstadar,%20p&aring;%20kollektivtransport,%20i%20taxi%20og%20p&aring;%20innand&oslash;rs%20stasjonsomr&aring;de.&nbsp;%3C/li%3E%0A%09%3Cli%3EDet%20er%20ikkje%20krav%20til%20munnbind%20medan%20ein%20sit%20ved%20eit%20bord%20p&aring;%20serveringsstad%20eller%20p&aring;%20arrangement%20medan%20ein%20sit%20p&aring;%20ein%20fast%20tilvist&nbsp;plass.%3C/li%3E%0A%3C/ul%3E%0A%0A%3Cp%3E%3Cstrong%3ESmittevernfagleg%20forsvarleg%20drift%3C/strong%3E%3C/p%3E%0A%0A%3Cul%3E%0A%09%3Cli%3ESmittevernfagleg%20forsvarleg%20drift%20betyr%20at%20verksemda%20skal%20s&oslash;rge%20for%20at%20det%20er%20mogleg%20&aring;%20halde%20minst%201%20meter%20avstand%20til%20personar&nbsp;%20som%20ikkje%20er%20i%20same%20husstand%20eller%20tilsvarande%20n&aelig;re.%3C/li%3E%0A%09%3Cli%3EVerksemda%20m&aring;%20ha%20rutinar%20for%20god%20hygiene,%20godt%20reinhald%20og%20lufting.%3C/li%3E%0A%09%3Cli%3EDesse%20verksemdene%20skal%20drivast%20smittevernfagleg%20forsvarleg%20for%20&aring;%20kunne%20halde%20ope:%20Bibliotek,%20museum,%20bingohallar,%20bowlinghallar,%20sv&oslash;mmehallar,%20badeland,%20spaanlegg,%20hotellbasseng,%20treningssenter,%20kj&oslash;pesenter,%20butikkar,%20varemesser,%20kortvarige&nbsp;marknader,%20underhaldningsparkar,%20leikeland,%20spelehallar%20og%20liknande.%3C/li%3E%0A%3C/ul%3E%0A',\n",
            "  'created': '2022-02-02T09:00:32.0437162',\n",
            "  'creator': 'Aina Risnes Haugen',\n",
            "  'intro': 'Alle endringane gjeld frå kl 23.00 tysdag 1. februar 2022',\n",
            "  'title': 'Regjeringa har, tysdag 1. februar, fatta vedtak om endringar i '\n",
            "           'covid-19 tiltak',\n",
            "  'user_id': 'aina.risnes.haugen@tinn.kommune.no'},\n",
            " {'content_id': 'd26a7d22-06d5-42e2-b6d3-1709d0f2b802',\n",
            "  'content_object': '%3Cul%3E%0A%09%3Cli%3EH&oslash;y%20fart%20er%20en%20av%20de%20st&oslash;rste%20faktorene%20for%20d&oslash;dsulykker%20i%20trafikken.%3C/li%3E%0A%09%3Cli%3ELovlig%20fart%20er%20ikke%20det%20samme%20som%20forsvarlig%20fart.%20Fartsgrenseskiltet%20er%20et%20forbudskilt%20og%20betyr%20&laquo;forbudt%20&aring;%20kj&oslash;re%20fortere%20enn&raquo;%3C/li%3E%0A%09%3Cli%3EOm%20du%20blir%20p&aring;kj&oslash;rt%20som%20fotgjenger%20i%2030%20km/t%20har%20du%2080%20prosent%20sjanse%20for%20&aring;%20overleve.%20&nbsp;Men%20om%20du%20blir%20p&aring;kj&oslash;rt%20som%20fotgjenger%20i%2050%20km/t%20er%20det%2080%20prosent%20sjanse%20for%20at%20du%20omkommer.%3C/li%3E%0A%09%3Cli%3EHvis%20du%20kj&oslash;rer%20i%2093%20km/t%20istedenfor%2080%20km/t,%20dobles%20risikoen%20for%20at%20du%20kan%20d&oslash;%20hvis%20det%20skjer%20en%20ulykke.%3C/li%3E%0A%3C/ul%3E%0A%0A%3Cp%3E%3Cimg%20alt=%22%22%20class=%22imageBlokk%22%20id=%22db46d02a-868f-409d-baca-f8ac27d13af1%22%20longdesc=%22%22%20src=%22https://aimblob.blob.core.windows.net/aimfiles/db46d02a-868f-409d-baca-f8ac27d13af1.jpg%22%20style=%22width:%20600px;%22%20title=%22%22%20/%3E%3C/p%3E%0A',\n",
            "  'created': '2022-02-02T08:36:04.499911',\n",
            "  'creator': 'Aina Risnes Haugen',\n",
            "  'intro': 'Visste du at:',\n",
            "  'title': 'Trygg trafikk - HMS plakat for februar',\n",
            "  'user_id': 'aina.risnes.haugen@tinn.kommune.no'}]\n"
          ]
        }
      ]
    },
    {
      "cell_type": "code",
      "source": [
        "# følgende syv kommuner bruge Kommun Kari (fundet via nerdydata.com ved at søge på \"https://prokom-aimcms.azurewebsites.net\")\n",
        "# de har hver sit subscriptionId (nedenfor erstattet med \"{}\") - ellers hentes data fra en identisk URL hos Prokom, nemlig\n",
        "# https://prokom-aimcms.azurewebsites.net/api/PublicContentApi/getcontentlistdescending/{}/mal_nyhet/10/0/Modified\n",
        "\n",
        "# Test viser i øvrigt, at PAGING fungerer således:\n",
        "# /10/0 - betyder \"hent side 0 med 10 resultater\", så vi kan hente de første 100 resultater således:\n",
        "# /100/0 - og de næste 100 således:\n",
        "# /100/1\n",
        "\n",
        "# strukturen (key/value) i dict er {kommuneURL: subscriptionId}\n",
        "kommuner = {\n",
        "    \"https://kongsberg.kommune.no\": \"80f5c7f1-6df7-4d18-b3f2-e8b2f6c83e00\",\n",
        "    \"https://tinn.kommune.no\": \"e5151a68-1d5f-4987-b4c0-426d961a0dd9\",\n",
        "    \"https://klepp.kommune.no\": \"d630387c-3345-449b-aa08-c5c938db823d\",\n",
        "    \"https://notodden.kommune.no\": \"bb4f7c6f-346a-428b-8950-e6bddb407509\",\n",
        "    \"https://rollag.kommune.no\": \"906afa35-3e09-4146-a46c-2208669b2944\",\n",
        "    \"https://nore-og-uvdal.kommune.no\": \"f7b0df1c-e0a4-4947-bb59-05273343c8ea\",\n",
        "    \"https://flesberg.kommune.no\": \"af4640cd-2bf0-43d9-8284-469097a91b4d\"\n",
        "}"
      ],
      "metadata": {
        "id": "IiHCe-ENE25R"
      },
      "execution_count": null,
      "outputs": []
    },
    {
      "cell_type": "markdown",
      "source": [
        "# Lidt om at loope gennem hhv. lister og dictionaries\n",
        "\n",
        "Her har vi en liste:\n",
        "```python\n",
        "letters = [\n",
        "            \"a\",\n",
        "            \"b\",\n",
        "            \"c\"\n",
        "]\n",
        "```\n",
        "Et loop gennem listen ser således ud:\n",
        "\n",
        "```python¨\n",
        "for letter in letters:\n",
        "  print(letter)\n",
        "\n",
        "a\n",
        "b\n",
        "c\n",
        "```\n",
        "\n",
        "Man kan også loope på samme måde gennem et dictionary (key/value). Så outputtes key fra dictionariet:\n",
        "\n",
        "```python\n",
        "kommuner = {\n",
        "    \"https://kongsberg.kommune.no\": \"80f5c7f1-6df7-4d18-b3f2-e8b2f6c83e00\",\n",
        "    \"https://tinn.kommune.no\": \"e5151a68-1d5f-4987-b4c0-426d961a0dd9\",\n",
        "    \"https://klepp.kommune.no\": \"d630387c-3345-449b-aa08-c5c938db823d\",\n",
        "    \"https://notodden.kommune.no\": \"bb4f7c6f-346a-428b-8950-e6bddb407509\",\n",
        "    \"https://rollag.kommune.no\": \"906afa35-3e09-4146-a46c-2208669b2944\",\n",
        "    \"https://nore-og-uvdal.kommune.no\": \"f7b0df1c-e0a4-4947-bb59-05273343c8ea\",\n",
        "    \"https://flesberg.kommune.no\": \"af4640cd-2bf0-43d9-8284-469097a91b4d\"\n",
        "}\n",
        "\n",
        "for kommune in kommuner:\n",
        "  print(kommune)\n",
        "\n",
        "https://kongsberg.kommune.no\n",
        "https://tinn.kommune.no\n",
        "https://klepp.kommune.no\n",
        "https://notodden.kommune.no\n",
        "https://rollag.kommune.no\n",
        "https://nore-og-uvdal.kommune.no\n",
        "https://flesberg.kommune.no\n",
        "```\n",
        "\n",
        "Ofte vil vi gerne have både key og value ud. Til det formål har Python metoden `.items()`, der gør dette:\n",
        "\n",
        "```python\n",
        "for key, value in kommuner.items():\n",
        "  print(\"Key: {}. Value: {}\".format(key, value))\n",
        "\n",
        "Key: https://kongsberg.kommune.no. Value: 80f5c7f1-6df7-4d18-b3f2-e8b2f6c83e00\n",
        "Key: https://tinn.kommune.no. Value: e5151a68-1d5f-4987-b4c0-426d961a0dd9\n",
        "Key: https://klepp.kommune.no. Value: d630387c-3345-449b-aa08-c5c938db823d\n",
        "Key: https://notodden.kommune.no. Value: bb4f7c6f-346a-428b-8950-e6bddb407509\n",
        "Key: https://rollag.kommune.no. Value: 906afa35-3e09-4146-a46c-2208669b2944\n",
        "Key: https://nore-og-uvdal.kommune.no. Value: f7b0df1c-e0a4-4947-bb59-05273343c8ea\n",
        "Key: https://flesberg.kommune.no. Value: af4640cd-2bf0-43d9-8284-469097a91b4d\n",
        "\n",
        "```\n",
        "\n",
        "Man behøver ikke kald det `key` og `value`. Det er bare navnet på to variabler. Det er konventionen, at man gør det - eller blot kalder dem `k` og `v`. Eller at man vælger nogle navne, der giver mening for én. \n",
        "\n",
        "Her kunne det være `kommune` og `subscriptionId` (det er det, Prokom kalder det), altså:\n",
        "\n",
        "```python\n",
        "for kommune, subscription_id in kommuner.items():\n",
        "  print(\"Kommune: {}. subscriptionId: {}\".format(kommune, subscription_id))\n",
        "\n",
        "Kommune: https://kongsberg.kommune.no. subscriptionId: 80f5c7f1-6df7-4d18-b3f2-e8b2f6c83e00\n",
        "Kommune: https://tinn.kommune.no. subscriptionId: e5151a68-1d5f-4987-b4c0-426d961a0dd9\n",
        "Kommune: https://klepp.kommune.no. subscriptionId: d630387c-3345-449b-aa08-c5c938db823d\n",
        "Kommune: https://notodden.kommune.no. subscriptionId: bb4f7c6f-346a-428b-8950-e6bddb407509\n",
        "Kommune: https://rollag.kommune.no. subscriptionId: 906afa35-3e09-4146-a46c-2208669b2944\n",
        "Kommune: https://nore-og-uvdal.kommune.no. subscriptionId: f7b0df1c-e0a4-4947-bb59-05273343c8ea\n",
        "Kommune: https://flesberg.kommune.no. subscriptionId: af4640cd-2bf0-43d9-8284-469097a91b4d\n",
        "\n",
        "```"
      ],
      "metadata": {
        "id": "9r9AEOThE4Bn"
      }
    },
    {
      "cell_type": "code",
      "source": [
        "output_list = []\n",
        "url = \"https://prokom-aimcms.azurewebsites.net/api/PublicContentApi/getcontentlistdescending/{}/mal_nyhet/10/0/Modified\"\n",
        "for key, value in kommuner.items():\n",
        "  print(\"Udtrækker data for kommune: {}\".format(key))\n",
        "  # her skal data så hentes med requests\n",
        "  # derpå skal vi loope igennem hver kommunes 10 seneste nyheder og appende disse til output_list\n"
      ],
      "metadata": {
        "colab": {
          "base_uri": "https://localhost:8080/"
        },
        "id": "g1JkUV-OFdSh",
        "outputId": "95b4dc06-f74c-45bf-cab6-3fc26967b2a1"
      },
      "execution_count": null,
      "outputs": [
        {
          "output_type": "stream",
          "name": "stdout",
          "text": [
            "Udtrækker data for kommune: https://kongsberg.kommune.no\n",
            "Udtrækker data for kommune: https://tinn.kommune.no\n",
            "Udtrækker data for kommune: https://klepp.kommune.no\n",
            "Udtrækker data for kommune: https://notodden.kommune.no\n",
            "Udtrækker data for kommune: https://rollag.kommune.no\n",
            "Udtrækker data for kommune: https://nore-og-uvdal.kommune.no\n",
            "Udtrækker data for kommune: https://flesberg.kommune.no\n"
          ]
        }
      ]
    },
    {
      "cell_type": "markdown",
      "source": [
        "#Opgave 2\n",
        "\n",
        "I **OPGAVE 1** skrev du kode, der hentede data for én kommune.\n",
        "\n",
        "Du skal nu bruge de uuid'er (Prokom kalder dem `subscriptionId`), jeg har samlet ovenfor i et dict for de syv kommuner, til at hente data for alle syv kommuner.\n",
        "\n",
        "Opgaven er altså at loop gennem dit dictionary med kommuner og disses tilhørende `subscriptionId`.\n",
        "\n",
        "For hver kommune skal du hente de seneste 10 historier, og de samme felter, som i **OPGAVE 1**.\n",
        "\n",
        "Til hver `nyhed_dict` skal du indsætte den kommuneURL (f.eks. https://kongsberg.kommune.no), som `subscriptionId` tilhører (f.eks. 80f5c7f1-6df7-4d18-b3f2-e8b2f6c83e00), samt det pågældende `subscriptionId`.\n",
        "\n",
        "Hvert `nyhed_dict` skal altså have følgende indhold:\n",
        "\n",
        "- contentId\n",
        "- created\n",
        "- creator\n",
        "- userId\n",
        "- title\n",
        "- intro\n",
        "- contentObject\n",
        "- kommune (kommer fra dit dict med de syv kommuner - key)\n",
        "- subscripitonId (kommer fra dit dict med de syv kommuner - value)\n",
        "\n",
        "Saml alle `nyhed_dict` i en samlet liste.\n",
        "\n",
        "**OBS**: Det nemmeste er at starte med at få selve `.items()`-loopet til at fungere med blot et print-statement, altså, hvor du bare printer indholdet fra `kommuner`-dictionariet. Når det virker, kan du indsætte al koden fra **OPGAVE 1**, og så burde det virke."
      ],
      "metadata": {
        "id": "FNovffdiFpjv"
      }
    },
    {
      "cell_type": "code",
      "source": [
        "# LØSNING PÅ OPGAVE 2\n",
        "\n",
        "kommuner = {\n",
        "    \"https://kongsberg.kommune.no\": \"80f5c7f1-6df7-4d18-b3f2-e8b2f6c83e00\",\n",
        "    \"https://tinn.kommune.no\": \"e5151a68-1d5f-4987-b4c0-426d961a0dd9\",\n",
        "    \"https://klepp.kommune.no\": \"d630387c-3345-449b-aa08-c5c938db823d\",\n",
        "    \"https://notodden.kommune.no\": \"bb4f7c6f-346a-428b-8950-e6bddb407509\",\n",
        "    \"https://rollag.kommune.no\": \"906afa35-3e09-4146-a46c-2208669b2944\",\n",
        "    \"https://nore-og-uvdal.kommune.no\": \"f7b0df1c-e0a4-4947-bb59-05273343c8ea\",\n",
        "    \"https://flesberg.kommune.no\": \"af4640cd-2bf0-43d9-8284-469097a91b4d\"\n",
        "}\n",
        "output_list = []\n",
        "# definer den URL, som TINN KOMMUNE henter data fra\n",
        "url = \"https://prokom-aimcms.azurewebsites.net/api/PublicContentApi/getcontentlistdescending/{}/mal_nyhet/10/0/Modified\"\n",
        "\n",
        "for kommune, sub_id in kommuner.items():\n",
        "  print(\"Henter data for kommune: {}\".format(kommune))\n",
        "  \n",
        "  # besøg URL med reuqests\n",
        "  r = requests.get(url.format(sub_id))\n",
        "\n",
        "  # udtræk JSON data fra vores response\n",
        "  data = r.json()\n",
        "\n",
        "  # data er et dict\n",
        "  # under nøglen \"listOfContent\" ligger en liste med 10 artikler (dicts)\n",
        "  # disse udtrækkes til en særskilt variabel, \"artikler\"\n",
        "  artikler = data[\"listOfContent\"]\n",
        "\n",
        "  # lav et loop, der gennemgår hver artikel, bygger et nyhed_dict og appender denne til en samlet liste\n",
        "  for artikel in artikler:\n",
        "    # udtræk de relevante felter\n",
        "    title = artikel[\"title\"]\n",
        "    creator = artikel[\"creator\"]\n",
        "    created = artikel[\"created\"]\n",
        "    user_id = artikel[\"userId\"]\n",
        "    content_id = artikel[\"contentId\"]\n",
        "    intro = artikel[\"intro\"]\n",
        "    content_object = artikel[\"contentObject\"]\n",
        "\n",
        "    # saml data i et dict\n",
        "    nyhed_dict = {\n",
        "        \"title\": title,\n",
        "        \"created\": created,\n",
        "        \"creator\": creator,\n",
        "        \"user_id\": user_id,\n",
        "        \"intro\": intro,\n",
        "        \"content_object\": content_object,\n",
        "        \"content_id\": content_id,\n",
        "        \"subscription_id\": sub_id,\n",
        "        \"kommune\": kommune\n",
        "\n",
        "    }\n",
        "    # føj nyhed_dict til den samlede liste, output_list\n",
        "    output_list.append(nyhed_dict)\n"
      ],
      "metadata": {
        "colab": {
          "base_uri": "https://localhost:8080/"
        },
        "id": "Cq4u80UsIM0H",
        "outputId": "e71a0963-4c81-46fd-ef2a-a1c59614078d"
      },
      "execution_count": null,
      "outputs": [
        {
          "output_type": "stream",
          "name": "stdout",
          "text": [
            "Henter data for kommune: https://kongsberg.kommune.no\n",
            "Henter data for kommune: https://tinn.kommune.no\n",
            "Henter data for kommune: https://klepp.kommune.no\n",
            "Henter data for kommune: https://notodden.kommune.no\n",
            "Henter data for kommune: https://rollag.kommune.no\n",
            "Henter data for kommune: https://nore-og-uvdal.kommune.no\n",
            "Henter data for kommune: https://flesberg.kommune.no\n"
          ]
        }
      ]
    },
    {
      "cell_type": "code",
      "source": [
        "len(output_list)"
      ],
      "metadata": {
        "colab": {
          "base_uri": "https://localhost:8080/"
        },
        "id": "o0XNTVLAMaSe",
        "outputId": "bcc359fd-cc8f-4a21-9588-ca1997af353d"
      },
      "execution_count": null,
      "outputs": [
        {
          "output_type": "execute_result",
          "data": {
            "text/plain": [
              "70"
            ]
          },
          "metadata": {},
          "execution_count": 56
        }
      ]
    },
    {
      "cell_type": "code",
      "source": [
        "pprint(output_list[0])"
      ],
      "metadata": {
        "colab": {
          "base_uri": "https://localhost:8080/"
        },
        "id": "dgv7QaTaO1n6",
        "outputId": "d3ebc0ba-ee71-42ed-a376-c7eaad68ff37"
      },
      "execution_count": null,
      "outputs": [
        {
          "output_type": "stream",
          "name": "stdout",
          "text": [
            "{'content_id': 'c6bd64bb-3d13-4532-8fbd-613e0e0f766a',\n",
            " 'content_object': '%3Cp%3EPersoner%20som%20p&aring;%20grunn%20av%20sykdom%20eller%20bruk%20av%20immundempende%20behandling%20har%20alvorlig%20svekket%20immunforsvar%20har%20d&aring;rligere%20respons%20p&aring;%20vaksiner%20sammenliknet%20med%20friske%20personer.%20Dette%20gjelder%20ogs&aring;%20for%20koronavaksinasjon.%20I%20tillegg%20har%20de%20ogs&aring;%20en%20h&oslash;yere%20risiko%20for%20&aring;%20bli%20alvorlig%20syke%20dersom%20de%20smittes%20med%20koronaviruset.&nbsp;%3C/p%3E%0A%0A%3Ch3%3E%3Cbr%20/%3E%0ADette%20gjelder%20blant%20andre:%20&nbsp;%3C/h3%3E%0A%0A%3Cul%3E%0A%09%3Cli%3EPersoner%20som%20g&aring;r%20p&aring;%20immundempende%20medikamenter%3C/li%3E%0A%09%3Cli%3EKreftpasienter%20med%20aktiv%20eller%20nylig%20gjennomg&aring;tt%20immundempende%20behandling%3C/li%3E%0A%09%3Cli%3EOrgantransplanterte%3C/li%3E%0A%09%3Cli%3EBenmargstranplanterte%20(siste%202%20&aring;r)%3C/li%3E%0A%09%3Cli%3EPersoner%20med%20alvorlig%20nyresvikt,%20eller%20i%20aktiv%20dialyse%3C/li%3E%0A%09%3Cli%3EPersoner%20med%20avansert%20eller%20ubehandlet%20HIV-infeksjon%3C/li%3E%0A%3C/ul%3E%0A%0A%3Cp%3E%3Cbr%20/%3E%0AEn%20del%20av%20disse%20pasientene%20er%20anbefalt%20en%20ekstra%20dose%20koronavaksine%20som%20del%20av%20grunnvaksinasjonen,%20dvs.%20tre%20doser%20istedenfor%20to.%20For%20denne%20gruppen%20blir%20oppfriskningsdosen%20dose%20nummer%204.%3C/p%3E%0A%0A%3Cp%3E&nbsp;%3C/p%3E%0A%0A%3Cp%3E&nbsp;%3C/p%3E%0A%0A%3Cp%3ELes%20mer%20p&aring;%20nettsiden%20til%20FHI:%20%3Ca%20href=%22https://www.fhi.no/nyheter/2022/personer-med-alvorlig-svekket-immunforsvar-bor-ta-oppfriskningsdose-4.-dose/%22%20target=%22_blank%22%3Ehttps://www.fhi.no/nyheter/2022/personer-med-alvorlig-svekket-immunforsvar-bor-ta-oppfriskningsdose-4.-dose/%3C/a%3E&nbsp;%3C/p%3E%0A%0A%3Cp%3E&nbsp;%3C/p%3E%0A%0A%3Cp%3E&nbsp;%3C/p%3E%0A%0A%3Cp%3E%3Cbr%20/%3E%0A%3Cbr%20/%3E%0A%3Cspan%20class=%22h-card%22%3E%3Cspan%20id=%22editorBlokk%22%3E%3Cspan%20id=%222f0d74d3-07c9-4eb7-9ab3-e7e546f8280e%22%3E%3Cspan%20style=%22margin-right:%205px;%20font-weight:%20500;%22%3EKontaktkort:%3C/span%3E%3Cspan%20style=%22font-style:%20italic;margin-right:%205px;%22%3E%5BVaksinesenteret%5D%3C/span%3E%3C/span%3E%3C/span%3E%3C/span%3E%3C/p%3E%0A',\n",
            " 'created': '2022-02-09T09:12:18.409699',\n",
            " 'creator': 'Margrethe Taxt-Lamolle',\n",
            " 'intro': 'Denne gruppen har dårligere respons på vaksiner sammenliknet med '\n",
            "          'friske personer, og er derfor anbefalt en fjerde vaksinedose.  '\n",
            "          'Dersom dette gjelder deg, så ta kontakt med Vaksinesenteret\\xa0. ',\n",
            " 'kommune': 'https://kongsberg.kommune.no',\n",
            " 'subscription_id': '80f5c7f1-6df7-4d18-b3f2-e8b2f6c83e00',\n",
            " 'title': 'Dose 4 til personer med alvorlig svekket immunforsvar.',\n",
            " 'user_id': 'margrethe.taxt.lamolle@kongsberg.kommune.no'}\n"
          ]
        }
      ]
    },
    {
      "cell_type": "code",
      "source": [
        ""
      ],
      "metadata": {
        "id": "DDoypKlN8-gg"
      },
      "execution_count": null,
      "outputs": []
    }
  ]
}